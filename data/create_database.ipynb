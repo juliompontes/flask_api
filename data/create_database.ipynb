{
 "cells": [
  {
   "cell_type": "code",
   "execution_count": 6,
   "id": "07732db2",
   "metadata": {},
   "outputs": [
    {
     "name": "stdout",
     "output_type": "stream",
     "text": [
      "Requirement already satisfied: dask[dataframe] in /home/user/projetos/apiflask/env/lib/python3.7/site-packages (2022.1.1)\n",
      "Requirement already satisfied: packaging>=20.0 in /home/user/projetos/apiflask/env/lib/python3.7/site-packages (from dask[dataframe]) (21.3)\n",
      "Requirement already satisfied: partd>=0.3.10 in /home/user/projetos/apiflask/env/lib/python3.7/site-packages (from dask[dataframe]) (1.2.0)\n",
      "Requirement already satisfied: toolz>=0.8.2 in /home/user/projetos/apiflask/env/lib/python3.7/site-packages (from dask[dataframe]) (0.11.2)\n",
      "Requirement already satisfied: pyyaml>=5.3.1 in /home/user/projetos/apiflask/env/lib/python3.7/site-packages (from dask[dataframe]) (6.0)\n",
      "Requirement already satisfied: cloudpickle>=1.1.1 in /home/user/projetos/apiflask/env/lib/python3.7/site-packages (from dask[dataframe]) (2.0.0)\n",
      "Requirement already satisfied: fsspec>=0.6.0 in /home/user/projetos/apiflask/env/lib/python3.7/site-packages (from dask[dataframe]) (2022.1.0)\n",
      "Requirement already satisfied: numpy>=1.18 in /home/user/projetos/apiflask/env/lib/python3.7/site-packages (from dask[dataframe]) (1.21.5)\n",
      "Requirement already satisfied: pandas>=1.0 in /home/user/projetos/apiflask/env/lib/python3.7/site-packages (from dask[dataframe]) (1.3.5)\n",
      "Requirement already satisfied: pyparsing!=3.0.5,>=2.0.2 in /home/user/projetos/apiflask/env/lib/python3.7/site-packages (from packaging>=20.0->dask[dataframe]) (3.0.7)\n",
      "Requirement already satisfied: python-dateutil>=2.7.3 in /home/user/projetos/apiflask/env/lib/python3.7/site-packages (from pandas>=1.0->dask[dataframe]) (2.8.2)\n",
      "Requirement already satisfied: pytz>=2017.3 in /home/user/projetos/apiflask/env/lib/python3.7/site-packages (from pandas>=1.0->dask[dataframe]) (2021.3)\n",
      "Requirement already satisfied: locket in /home/user/projetos/apiflask/env/lib/python3.7/site-packages (from partd>=0.3.10->dask[dataframe]) (0.2.1)\n",
      "Requirement already satisfied: six>=1.5 in /home/user/projetos/apiflask/env/lib/python3.7/site-packages (from python-dateutil>=2.7.3->pandas>=1.0->dask[dataframe]) (1.16.0)\n"
     ]
    }
   ],
   "source": [
    "# dask package installation and import of the libraries that will be used in the project\n",
    "!python -m pip install \"dask[dataframe]\"\n",
    "\n",
    "import pandas as pd\n",
    "import numpy as np\n",
    "import dask.dataframe as dd\n",
    "import shutil"
   ]
  },
  {
   "cell_type": "code",
   "execution_count": 2,
   "id": "0f9b19df",
   "metadata": {},
   "outputs": [],
   "source": [
    "# selection of columns to be used\n",
    "cols = ['CBO Ocupação 2002',    # profession code\n",
    "        'Faixa Etária',         # age group        \n",
    "        'Município',            # city\n",
    "        'Vl Remun Média Nom',   # salary\n",
    "        'Sexo Trabalhador']     # gender"
   ]
  },
  {
   "cell_type": "code",
   "execution_count": 3,
   "id": "2efc2627",
   "metadata": {},
   "outputs": [],
   "source": [
    "# reading the files in a dask dataframe\n",
    "df = dd.read_csv('rais_raw_data/RAIS_VINC*',sep = \";\", encoding= \"ISO-8859-1\", usecols = cols, low_memory=False, \n",
    "                 dtype={'CBO Ocupação 2002': 'object','Faixa Etária': 'object'})"
   ]
  },
  {
   "cell_type": "code",
   "execution_count": 4,
   "id": "651bc76d",
   "metadata": {},
   "outputs": [],
   "source": [
    "# removal of lines that are not of interest to the project and consequent reduction of the dataset\n",
    "df = df[df['CBO Ocupação 2002'].str.startswith('2')]"
   ]
  },
  {
   "cell_type": "code",
   "execution_count": 5,
   "id": "cad41d61",
   "metadata": {},
   "outputs": [],
   "source": [
    "# transforming a dask dataframe to a pandas dataframe\n",
    "df = df.compute()"
   ]
  },
  {
   "cell_type": "code",
   "execution_count": 7,
   "id": "80086cf8",
   "metadata": {},
   "outputs": [
    {
     "data": {
      "text/plain": [
       "(7072962, 5)"
      ]
     },
     "execution_count": 7,
     "metadata": {},
     "output_type": "execute_result"
    }
   ],
   "source": [
    "# checking the number of rows and columns of the dataframe\n",
    "df.shape"
   ]
  },
  {
   "cell_type": "code",
   "execution_count": 8,
   "id": "af74d56b",
   "metadata": {},
   "outputs": [
    {
     "data": {
      "text/html": [
       "<div>\n",
       "<style scoped>\n",
       "    .dataframe tbody tr th:only-of-type {\n",
       "        vertical-align: middle;\n",
       "    }\n",
       "\n",
       "    .dataframe tbody tr th {\n",
       "        vertical-align: top;\n",
       "    }\n",
       "\n",
       "    .dataframe thead th {\n",
       "        text-align: right;\n",
       "    }\n",
       "</style>\n",
       "<table border=\"1\" class=\"dataframe\">\n",
       "  <thead>\n",
       "    <tr style=\"text-align: right;\">\n",
       "      <th></th>\n",
       "      <th>CBO Ocupação 2002</th>\n",
       "      <th>Faixa Etária</th>\n",
       "      <th>Município</th>\n",
       "      <th>Vl Remun Média Nom</th>\n",
       "      <th>Sexo Trabalhador</th>\n",
       "    </tr>\n",
       "  </thead>\n",
       "  <tbody>\n",
       "    <tr>\n",
       "      <th>362</th>\n",
       "      <td>231305</td>\n",
       "      <td>05</td>\n",
       "      <td>500240</td>\n",
       "      <td>0000003591,52</td>\n",
       "      <td>1</td>\n",
       "    </tr>\n",
       "    <tr>\n",
       "      <th>531</th>\n",
       "      <td>231305</td>\n",
       "      <td>05</td>\n",
       "      <td>500240</td>\n",
       "      <td>0000003750,03</td>\n",
       "      <td>1</td>\n",
       "    </tr>\n",
       "    <tr>\n",
       "      <th>546</th>\n",
       "      <td>232105</td>\n",
       "      <td>05</td>\n",
       "      <td>500240</td>\n",
       "      <td>0000002224,63</td>\n",
       "      <td>1</td>\n",
       "    </tr>\n",
       "    <tr>\n",
       "      <th>547</th>\n",
       "      <td>232105</td>\n",
       "      <td>05</td>\n",
       "      <td>500240</td>\n",
       "      <td>0000002159,15</td>\n",
       "      <td>1</td>\n",
       "    </tr>\n",
       "    <tr>\n",
       "      <th>568</th>\n",
       "      <td>254410</td>\n",
       "      <td>07</td>\n",
       "      <td>500240</td>\n",
       "      <td>0000001426,58</td>\n",
       "      <td>1</td>\n",
       "    </tr>\n",
       "  </tbody>\n",
       "</table>\n",
       "</div>"
      ],
      "text/plain": [
       "    CBO Ocupação 2002 Faixa Etária  Município Vl Remun Média Nom  \\\n",
       "362            231305           05     500240      0000003591,52   \n",
       "531            231305           05     500240      0000003750,03   \n",
       "546            232105           05     500240      0000002224,63   \n",
       "547            232105           05     500240      0000002159,15   \n",
       "568            254410           07     500240      0000001426,58   \n",
       "\n",
       "     Sexo Trabalhador  \n",
       "362                 1  \n",
       "531                 1  \n",
       "546                 1  \n",
       "547                 1  \n",
       "568                 1  "
      ]
     },
     "execution_count": 8,
     "metadata": {},
     "output_type": "execute_result"
    }
   ],
   "source": [
    "df.head()"
   ]
  },
  {
   "cell_type": "code",
   "execution_count": 9,
   "id": "24853c70",
   "metadata": {},
   "outputs": [],
   "source": [
    "# loading project supplementary data into pandas dataframes\n",
    "cbo = pd.read_csv('supplementary_data/cbo.csv')\n",
    "state = pd.read_csv('supplementary_data/states.csv')"
   ]
  },
  {
   "cell_type": "code",
   "execution_count": 10,
   "id": "50c234ae",
   "metadata": {},
   "outputs": [
    {
     "data": {
      "text/html": [
       "<div>\n",
       "<style scoped>\n",
       "    .dataframe tbody tr th:only-of-type {\n",
       "        vertical-align: middle;\n",
       "    }\n",
       "\n",
       "    .dataframe tbody tr th {\n",
       "        vertical-align: top;\n",
       "    }\n",
       "\n",
       "    .dataframe thead th {\n",
       "        text-align: right;\n",
       "    }\n",
       "</style>\n",
       "<table border=\"1\" class=\"dataframe\">\n",
       "  <thead>\n",
       "    <tr style=\"text-align: right;\">\n",
       "      <th></th>\n",
       "      <th>CBO Ocupação 2002</th>\n",
       "      <th>Profession</th>\n",
       "    </tr>\n",
       "  </thead>\n",
       "  <tbody>\n",
       "    <tr>\n",
       "      <th>0</th>\n",
       "      <td>251505</td>\n",
       "      <td>NaN</td>\n",
       "    </tr>\n",
       "    <tr>\n",
       "      <th>1</th>\n",
       "      <td>251510</td>\n",
       "      <td>NaN</td>\n",
       "    </tr>\n",
       "    <tr>\n",
       "      <th>2</th>\n",
       "      <td>251515</td>\n",
       "      <td>NaN</td>\n",
       "    </tr>\n",
       "    <tr>\n",
       "      <th>3</th>\n",
       "      <td>251520</td>\n",
       "      <td>NaN</td>\n",
       "    </tr>\n",
       "    <tr>\n",
       "      <th>4</th>\n",
       "      <td>251525</td>\n",
       "      <td>NaN</td>\n",
       "    </tr>\n",
       "  </tbody>\n",
       "</table>\n",
       "</div>"
      ],
      "text/plain": [
       "  CBO Ocupação 2002 Profession\n",
       "0            251505        NaN\n",
       "1            251510        NaN\n",
       "2            251515        NaN\n",
       "3            251520        NaN\n",
       "4            251525        NaN"
      ]
     },
     "execution_count": 10,
     "metadata": {},
     "output_type": "execute_result"
    }
   ],
   "source": [
    "cbo.head()"
   ]
  },
  {
   "cell_type": "code",
   "execution_count": 11,
   "id": "4da91858",
   "metadata": {
    "scrolled": true
   },
   "outputs": [
    {
     "data": {
      "text/html": [
       "<div>\n",
       "<style scoped>\n",
       "    .dataframe tbody tr th:only-of-type {\n",
       "        vertical-align: middle;\n",
       "    }\n",
       "\n",
       "    .dataframe tbody tr th {\n",
       "        vertical-align: top;\n",
       "    }\n",
       "\n",
       "    .dataframe thead th {\n",
       "        text-align: right;\n",
       "    }\n",
       "</style>\n",
       "<table border=\"1\" class=\"dataframe\">\n",
       "  <thead>\n",
       "    <tr style=\"text-align: right;\">\n",
       "      <th></th>\n",
       "      <th>Município</th>\n",
       "      <th>State</th>\n",
       "    </tr>\n",
       "  </thead>\n",
       "  <tbody>\n",
       "    <tr>\n",
       "      <th>0</th>\n",
       "      <td>110001</td>\n",
       "      <td>Rondonia</td>\n",
       "    </tr>\n",
       "    <tr>\n",
       "      <th>1</th>\n",
       "      <td>110002</td>\n",
       "      <td>Rondonia</td>\n",
       "    </tr>\n",
       "    <tr>\n",
       "      <th>2</th>\n",
       "      <td>110003</td>\n",
       "      <td>Rondonia</td>\n",
       "    </tr>\n",
       "    <tr>\n",
       "      <th>3</th>\n",
       "      <td>110004</td>\n",
       "      <td>Rondonia</td>\n",
       "    </tr>\n",
       "    <tr>\n",
       "      <th>4</th>\n",
       "      <td>110005</td>\n",
       "      <td>Rondonia</td>\n",
       "    </tr>\n",
       "  </tbody>\n",
       "</table>\n",
       "</div>"
      ],
      "text/plain": [
       "   Município     State\n",
       "0     110001  Rondonia\n",
       "1     110002  Rondonia\n",
       "2     110003  Rondonia\n",
       "3     110004  Rondonia\n",
       "4     110005  Rondonia"
      ]
     },
     "execution_count": 11,
     "metadata": {},
     "output_type": "execute_result"
    }
   ],
   "source": [
    "state.head()"
   ]
  },
  {
   "cell_type": "code",
   "execution_count": 12,
   "id": "3f52ac59",
   "metadata": {},
   "outputs": [],
   "source": [
    "# join of the original dataframe with the dataframe with the names of the professions\n",
    "data = pd.merge(df, cbo, on='CBO Ocupação 2002', how ='left')"
   ]
  },
  {
   "cell_type": "code",
   "execution_count": 13,
   "id": "3c9f58d3",
   "metadata": {},
   "outputs": [
    {
     "data": {
      "text/html": [
       "<div>\n",
       "<style scoped>\n",
       "    .dataframe tbody tr th:only-of-type {\n",
       "        vertical-align: middle;\n",
       "    }\n",
       "\n",
       "    .dataframe tbody tr th {\n",
       "        vertical-align: top;\n",
       "    }\n",
       "\n",
       "    .dataframe thead th {\n",
       "        text-align: right;\n",
       "    }\n",
       "</style>\n",
       "<table border=\"1\" class=\"dataframe\">\n",
       "  <thead>\n",
       "    <tr style=\"text-align: right;\">\n",
       "      <th></th>\n",
       "      <th>CBO Ocupação 2002</th>\n",
       "      <th>Faixa Etária</th>\n",
       "      <th>Município</th>\n",
       "      <th>Vl Remun Média Nom</th>\n",
       "      <th>Sexo Trabalhador</th>\n",
       "      <th>Profession</th>\n",
       "    </tr>\n",
       "  </thead>\n",
       "  <tbody>\n",
       "    <tr>\n",
       "      <th>0</th>\n",
       "      <td>231305</td>\n",
       "      <td>05</td>\n",
       "      <td>500240</td>\n",
       "      <td>0000003591,52</td>\n",
       "      <td>1</td>\n",
       "      <td>NaN</td>\n",
       "    </tr>\n",
       "    <tr>\n",
       "      <th>1</th>\n",
       "      <td>231305</td>\n",
       "      <td>05</td>\n",
       "      <td>500240</td>\n",
       "      <td>0000003750,03</td>\n",
       "      <td>1</td>\n",
       "      <td>NaN</td>\n",
       "    </tr>\n",
       "    <tr>\n",
       "      <th>2</th>\n",
       "      <td>232105</td>\n",
       "      <td>05</td>\n",
       "      <td>500240</td>\n",
       "      <td>0000002224,63</td>\n",
       "      <td>1</td>\n",
       "      <td>NaN</td>\n",
       "    </tr>\n",
       "    <tr>\n",
       "      <th>3</th>\n",
       "      <td>232105</td>\n",
       "      <td>05</td>\n",
       "      <td>500240</td>\n",
       "      <td>0000002159,15</td>\n",
       "      <td>1</td>\n",
       "      <td>NaN</td>\n",
       "    </tr>\n",
       "    <tr>\n",
       "      <th>4</th>\n",
       "      <td>254410</td>\n",
       "      <td>07</td>\n",
       "      <td>500240</td>\n",
       "      <td>0000001426,58</td>\n",
       "      <td>1</td>\n",
       "      <td>NaN</td>\n",
       "    </tr>\n",
       "  </tbody>\n",
       "</table>\n",
       "</div>"
      ],
      "text/plain": [
       "  CBO Ocupação 2002 Faixa Etária  Município Vl Remun Média Nom  \\\n",
       "0            231305           05     500240      0000003591,52   \n",
       "1            231305           05     500240      0000003750,03   \n",
       "2            232105           05     500240      0000002224,63   \n",
       "3            232105           05     500240      0000002159,15   \n",
       "4            254410           07     500240      0000001426,58   \n",
       "\n",
       "   Sexo Trabalhador Profession  \n",
       "0                 1        NaN  \n",
       "1                 1        NaN  \n",
       "2                 1        NaN  \n",
       "3                 1        NaN  \n",
       "4                 1        NaN  "
      ]
     },
     "execution_count": 13,
     "metadata": {},
     "output_type": "execute_result"
    }
   ],
   "source": [
    "data.head()"
   ]
  },
  {
   "cell_type": "code",
   "execution_count": 14,
   "id": "0707b8ee",
   "metadata": {},
   "outputs": [],
   "source": [
    "# removal of lines without the name of a profession\n",
    "data = data[data['Profession'].notnull()]"
   ]
  },
  {
   "cell_type": "code",
   "execution_count": 15,
   "id": "56b21195",
   "metadata": {},
   "outputs": [
    {
     "data": {
      "text/plain": [
       "(54851, 6)"
      ]
     },
     "execution_count": 15,
     "metadata": {},
     "output_type": "execute_result"
    }
   ],
   "source": [
    "data.shape"
   ]
  },
  {
   "cell_type": "code",
   "execution_count": 16,
   "id": "a8c9d781",
   "metadata": {},
   "outputs": [],
   "source": [
    "# join of previous dataframe with dataframe with states\n",
    "data = pd.merge(data,state,on ='Município', how ='left')"
   ]
  },
  {
   "cell_type": "code",
   "execution_count": 17,
   "id": "7ab1d440",
   "metadata": {},
   "outputs": [],
   "source": [
    "# removal of columns with the CBO code and the municipality\n",
    "data.drop(['CBO Ocupação 2002','Município', \"Profession\"], axis=1, inplace=True)"
   ]
  },
  {
   "cell_type": "code",
   "execution_count": 18,
   "id": "18735f3c",
   "metadata": {
    "scrolled": false
   },
   "outputs": [
    {
     "data": {
      "text/html": [
       "<div>\n",
       "<style scoped>\n",
       "    .dataframe tbody tr th:only-of-type {\n",
       "        vertical-align: middle;\n",
       "    }\n",
       "\n",
       "    .dataframe tbody tr th {\n",
       "        vertical-align: top;\n",
       "    }\n",
       "\n",
       "    .dataframe thead th {\n",
       "        text-align: right;\n",
       "    }\n",
       "</style>\n",
       "<table border=\"1\" class=\"dataframe\">\n",
       "  <thead>\n",
       "    <tr style=\"text-align: right;\">\n",
       "      <th></th>\n",
       "      <th>Faixa Etária</th>\n",
       "      <th>Vl Remun Média Nom</th>\n",
       "      <th>Sexo Trabalhador</th>\n",
       "      <th>State</th>\n",
       "    </tr>\n",
       "  </thead>\n",
       "  <tbody>\n",
       "    <tr>\n",
       "      <th>0</th>\n",
       "      <td>06</td>\n",
       "      <td>0000002687,50</td>\n",
       "      <td>1</td>\n",
       "      <td>Mato Grosso do Sul</td>\n",
       "    </tr>\n",
       "    <tr>\n",
       "      <th>1</th>\n",
       "      <td>03</td>\n",
       "      <td>0000001438,32</td>\n",
       "      <td>1</td>\n",
       "      <td>Mato Grosso do Sul</td>\n",
       "    </tr>\n",
       "    <tr>\n",
       "      <th>2</th>\n",
       "      <td>06</td>\n",
       "      <td>0000002463,26</td>\n",
       "      <td>1</td>\n",
       "      <td>Mato Grosso do Sul</td>\n",
       "    </tr>\n",
       "    <tr>\n",
       "      <th>3</th>\n",
       "      <td>07</td>\n",
       "      <td>0000004237,10</td>\n",
       "      <td>1</td>\n",
       "      <td>Mato Grosso do Sul</td>\n",
       "    </tr>\n",
       "    <tr>\n",
       "      <th>4</th>\n",
       "      <td>05</td>\n",
       "      <td>0000001690,21</td>\n",
       "      <td>1</td>\n",
       "      <td>Mato Grosso do Sul</td>\n",
       "    </tr>\n",
       "  </tbody>\n",
       "</table>\n",
       "</div>"
      ],
      "text/plain": [
       "  Faixa Etária Vl Remun Média Nom  Sexo Trabalhador               State\n",
       "0           06      0000002687,50                 1  Mato Grosso do Sul\n",
       "1           03      0000001438,32                 1  Mato Grosso do Sul\n",
       "2           06      0000002463,26                 1  Mato Grosso do Sul\n",
       "3           07      0000004237,10                 1  Mato Grosso do Sul\n",
       "4           05      0000001690,21                 1  Mato Grosso do Sul"
      ]
     },
     "execution_count": 18,
     "metadata": {},
     "output_type": "execute_result"
    }
   ],
   "source": [
    "data.head()"
   ]
  },
  {
   "cell_type": "code",
   "execution_count": 19,
   "id": "c26f2c1b",
   "metadata": {},
   "outputs": [],
   "source": [
    "data['Vl Remun Média Nom']=data['Vl Remun Média Nom'].str.replace(',','.')"
   ]
  },
  {
   "cell_type": "code",
   "execution_count": 20,
   "id": "3a7898dc",
   "metadata": {},
   "outputs": [],
   "source": [
    "# transformation of variables with salary values from \"object\" to \"float64\"\n",
    "data[\"Vl Remun Média Nom\"] = pd.to_numeric(data[\"Vl Remun Média Nom\"])"
   ]
  },
  {
   "cell_type": "code",
   "execution_count": 21,
   "id": "fb37254a",
   "metadata": {},
   "outputs": [
    {
     "data": {
      "text/plain": [
       "Faixa Etária           object\n",
       "Vl Remun Média Nom    float64\n",
       "Sexo Trabalhador        int64\n",
       "State                  object\n",
       "dtype: object"
      ]
     },
     "execution_count": 21,
     "metadata": {},
     "output_type": "execute_result"
    }
   ],
   "source": [
    "data.dtypes"
   ]
  },
  {
   "cell_type": "code",
   "execution_count": 22,
   "id": "1e8ee43a",
   "metadata": {},
   "outputs": [],
   "source": [
    "# removing rows where salary equal 0\n",
    "data = data[data['Vl Remun Média Nom'] > 0]"
   ]
  },
  {
   "cell_type": "code",
   "execution_count": 23,
   "id": "2e35a4b4",
   "metadata": {},
   "outputs": [
    {
     "data": {
      "text/plain": [
       "(52792, 4)"
      ]
     },
     "execution_count": 23,
     "metadata": {},
     "output_type": "execute_result"
    }
   ],
   "source": [
    "data.shape"
   ]
  },
  {
   "cell_type": "code",
   "execution_count": 24,
   "id": "089b1afb",
   "metadata": {},
   "outputs": [],
   "source": [
    "# exchange the encoding of the column \"Age Group\" by the actual value of the variable \"Age Group\"\n",
    "data['Faixa Etária'] = data['Faixa Etária'].map({'01': '10 to 14 years',\n",
    "                                               '02': '15 to 17 years',\n",
    "                                               '03': '18 to 24 years',\n",
    "                                               '04': '25 to 29 years',\n",
    "                                               '05': '30 to 39 years',\n",
    "                                               '06': '40 to 49 years',\n",
    "                                               '07': '50 to 64 years',\n",
    "                                               '08': '65+ years'\n",
    "                                              }\n",
    "                                             )"
   ]
  },
  {
   "cell_type": "code",
   "execution_count": 25,
   "id": "1cc19198",
   "metadata": {},
   "outputs": [],
   "source": [
    "# exchange the encoding of the \"Worker Sex\" column for the actual value of the \"Worker Sex\" variable\n",
    "data['Sexo Trabalhador'] = data['Sexo Trabalhador'].map({1: 'Male',\n",
    "                                                         2: 'Female',\n",
    "                                                        -1: 'uninformed'\n",
    "                                                        }\n",
    "                                                       )"
   ]
  },
  {
   "cell_type": "code",
   "execution_count": 26,
   "id": "69f5e355",
   "metadata": {},
   "outputs": [],
   "source": [
    "# renaming columnS names\n",
    "data.rename(columns={'Faixa Etária': \"age\",\n",
    "                     'Vl Remun Média Nom' : 'salary',\n",
    "                     'Sexo Trabalhador': 'gender',\n",
    "                     'State': 'state'\n",
    "                     }, \n",
    "            inplace=True)"
   ]
  },
  {
   "cell_type": "code",
   "execution_count": 27,
   "id": "cc6a47a5",
   "metadata": {},
   "outputs": [],
   "source": [
    "# removal of lines with probably incorrect padding\n",
    "data.drop(data.loc[data['age']=='15 to 17 years'].index, inplace=True)\n",
    "data.drop(data.loc[data['age']=='10 to 14 years'].index, inplace=True)"
   ]
  },
  {
   "cell_type": "code",
   "execution_count": 28,
   "id": "3dd5902f",
   "metadata": {},
   "outputs": [],
   "source": [
    "# resetting the index\n",
    "data.reset_index(drop=True, inplace=True)"
   ]
  },
  {
   "cell_type": "code",
   "execution_count": 29,
   "id": "ceaf168e",
   "metadata": {
    "scrolled": false
   },
   "outputs": [
    {
     "data": {
      "text/html": [
       "<div>\n",
       "<style scoped>\n",
       "    .dataframe tbody tr th:only-of-type {\n",
       "        vertical-align: middle;\n",
       "    }\n",
       "\n",
       "    .dataframe tbody tr th {\n",
       "        vertical-align: top;\n",
       "    }\n",
       "\n",
       "    .dataframe thead th {\n",
       "        text-align: right;\n",
       "    }\n",
       "</style>\n",
       "<table border=\"1\" class=\"dataframe\">\n",
       "  <thead>\n",
       "    <tr style=\"text-align: right;\">\n",
       "      <th></th>\n",
       "      <th>age</th>\n",
       "      <th>salary</th>\n",
       "      <th>gender</th>\n",
       "      <th>state</th>\n",
       "    </tr>\n",
       "  </thead>\n",
       "  <tbody>\n",
       "    <tr>\n",
       "      <th>0</th>\n",
       "      <td>40 to 49 years</td>\n",
       "      <td>2687.50</td>\n",
       "      <td>Male</td>\n",
       "      <td>Mato Grosso do Sul</td>\n",
       "    </tr>\n",
       "    <tr>\n",
       "      <th>1</th>\n",
       "      <td>18 to 24 years</td>\n",
       "      <td>1438.32</td>\n",
       "      <td>Male</td>\n",
       "      <td>Mato Grosso do Sul</td>\n",
       "    </tr>\n",
       "    <tr>\n",
       "      <th>2</th>\n",
       "      <td>40 to 49 years</td>\n",
       "      <td>2463.26</td>\n",
       "      <td>Male</td>\n",
       "      <td>Mato Grosso do Sul</td>\n",
       "    </tr>\n",
       "    <tr>\n",
       "      <th>3</th>\n",
       "      <td>50 to 64 years</td>\n",
       "      <td>4237.10</td>\n",
       "      <td>Male</td>\n",
       "      <td>Mato Grosso do Sul</td>\n",
       "    </tr>\n",
       "    <tr>\n",
       "      <th>4</th>\n",
       "      <td>30 to 39 years</td>\n",
       "      <td>1690.21</td>\n",
       "      <td>Male</td>\n",
       "      <td>Mato Grosso do Sul</td>\n",
       "    </tr>\n",
       "  </tbody>\n",
       "</table>\n",
       "</div>"
      ],
      "text/plain": [
       "              age   salary gender               state\n",
       "0  40 to 49 years  2687.50   Male  Mato Grosso do Sul\n",
       "1  18 to 24 years  1438.32   Male  Mato Grosso do Sul\n",
       "2  40 to 49 years  2463.26   Male  Mato Grosso do Sul\n",
       "3  50 to 64 years  4237.10   Male  Mato Grosso do Sul\n",
       "4  30 to 39 years  1690.21   Male  Mato Grosso do Sul"
      ]
     },
     "execution_count": 29,
     "metadata": {},
     "output_type": "execute_result"
    }
   ],
   "source": [
    "data.head()"
   ]
  },
  {
   "cell_type": "code",
   "execution_count": 30,
   "id": "97afbf45",
   "metadata": {},
   "outputs": [],
   "source": [
    "from sqlalchemy import create_engine"
   ]
  },
  {
   "cell_type": "code",
   "execution_count": 31,
   "id": "9ba67c03",
   "metadata": {},
   "outputs": [
    {
     "name": "stdout",
     "output_type": "stream",
     "text": [
      "2022-01-30 18:00:27,226 INFO sqlalchemy.engine.base.Engine SELECT CAST('test plain returns' AS VARCHAR(60)) AS anon_1\n",
      "2022-01-30 18:00:27,228 INFO sqlalchemy.engine.base.Engine ()\n",
      "2022-01-30 18:00:27,230 INFO sqlalchemy.engine.base.Engine SELECT CAST('test unicode returns' AS VARCHAR(60)) AS anon_1\n",
      "2022-01-30 18:00:27,232 INFO sqlalchemy.engine.base.Engine ()\n"
     ]
    }
   ],
   "source": [
    "# creating the connection with sqlite to create the database\n",
    "engine = create_engine('sqlite:///database.db', echo=True)\n",
    "sqlite_connection = engine.connect()"
   ]
  },
  {
   "cell_type": "code",
   "execution_count": 32,
   "id": "33e6ab60",
   "metadata": {},
   "outputs": [],
   "source": [
    "# creating the variable that contains the database table name (salarys)\n",
    "sqlite_table = \"salarys\""
   ]
  },
  {
   "cell_type": "code",
   "execution_count": 33,
   "id": "38029995",
   "metadata": {},
   "outputs": [
    {
     "name": "stdout",
     "output_type": "stream",
     "text": [
      "2022-01-30 18:00:33,084 INFO sqlalchemy.engine.base.Engine PRAGMA main.table_info(\"salarys\")\n",
      "2022-01-30 18:00:33,085 INFO sqlalchemy.engine.base.Engine ()\n",
      "2022-01-30 18:00:33,087 INFO sqlalchemy.engine.base.Engine PRAGMA temp.table_info(\"salarys\")\n",
      "2022-01-30 18:00:33,089 INFO sqlalchemy.engine.base.Engine ()\n",
      "2022-01-30 18:00:33,092 INFO sqlalchemy.engine.base.Engine \n",
      "CREATE TABLE salarys (\n",
      "\tid BIGINT, \n",
      "\tage TEXT, \n",
      "\tsalary FLOAT, \n",
      "\tgender TEXT, \n",
      "\tstate TEXT\n",
      ")\n",
      "\n",
      "\n",
      "2022-01-30 18:00:33,095 INFO sqlalchemy.engine.base.Engine ()\n",
      "2022-01-30 18:00:33,112 INFO sqlalchemy.engine.base.Engine COMMIT\n",
      "2022-01-30 18:00:33,114 INFO sqlalchemy.engine.base.Engine CREATE INDEX ix_salarys_id ON salarys (id)\n",
      "2022-01-30 18:00:33,115 INFO sqlalchemy.engine.base.Engine ()\n",
      "2022-01-30 18:00:33,125 INFO sqlalchemy.engine.base.Engine COMMIT\n",
      "2022-01-30 18:00:33,158 INFO sqlalchemy.engine.base.Engine BEGIN (implicit)\n",
      "2022-01-30 18:00:33,601 INFO sqlalchemy.engine.base.Engine INSERT INTO salarys (id, age, salary, gender, state) VALUES (?, ?, ?, ?, ?)\n",
      "2022-01-30 18:00:33,603 INFO sqlalchemy.engine.base.Engine ((0, '40 to 49 years', 2687.5, 'Male', 'Mato Grosso do Sul'), (1, '18 to 24 years', 1438.32, 'Male', 'Mato Grosso do Sul'), (2, '40 to 49 years', 2463.26, 'Male', 'Mato Grosso do Sul'), (3, '50 to 64 years', 4237.1, 'Male', 'Mato Grosso do Sul'), (4, '30 to 39 years', 1690.21, 'Male', 'Mato Grosso do Sul'), (5, '50 to 64 years', 6250.0, 'Male', 'Mato Grosso do Sul'), (6, '50 to 64 years', 6250.0, 'Male', 'Mato Grosso do Sul'), (7, '50 to 64 years', 6250.0, 'Male', 'Mato Grosso do Sul')  ... displaying 10 of 52790 total bound parameter sets ...  (52788, '30 to 39 years', 11453.91, 'Female', 'Rio Grande do Sul'), (52789, '30 to 39 years', 3797.86, 'Female', 'Rio Grande do Sul'))\n",
      "2022-01-30 18:00:33,794 INFO sqlalchemy.engine.base.Engine COMMIT\n"
     ]
    }
   ],
   "source": [
    "# inserting data from dataframe to database\n",
    "data.to_sql(sqlite_table, sqlite_connection, if_exists='fail', index=True, index_label=\"id\")"
   ]
  },
  {
   "cell_type": "code",
   "execution_count": 34,
   "id": "a9b37d66",
   "metadata": {},
   "outputs": [
    {
     "name": "stdout",
     "output_type": "stream",
     "text": [
      "2022-01-30 18:00:38,029 INFO sqlalchemy.engine.base.Engine SELECT * FROM salarys limit 5\n",
      "2022-01-30 18:00:38,033 INFO sqlalchemy.engine.base.Engine ()\n"
     ]
    },
    {
     "data": {
      "text/plain": [
       "[(0, '40 to 49 years', 2687.5, 'Male', 'Mato Grosso do Sul'),\n",
       " (1, '18 to 24 years', 1438.32, 'Male', 'Mato Grosso do Sul'),\n",
       " (2, '40 to 49 years', 2463.26, 'Male', 'Mato Grosso do Sul'),\n",
       " (3, '50 to 64 years', 4237.1, 'Male', 'Mato Grosso do Sul'),\n",
       " (4, '30 to 39 years', 1690.21, 'Male', 'Mato Grosso do Sul')]"
      ]
     },
     "execution_count": 34,
     "metadata": {},
     "output_type": "execute_result"
    }
   ],
   "source": [
    "# running a query to check the first 5 elements of the table \"salarys\" from the database\n",
    "engine.execute(\"SELECT * FROM salarys limit 5\").fetchall()"
   ]
  },
  {
   "cell_type": "code",
   "execution_count": 35,
   "id": "486cfe7f",
   "metadata": {},
   "outputs": [
    {
     "name": "stdout",
     "output_type": "stream",
     "text": [
      "2022-01-30 18:00:40,864 INFO sqlalchemy.engine.base.Engine PRAGMA table_info(salarys)\n",
      "2022-01-30 18:00:40,868 INFO sqlalchemy.engine.base.Engine ()\n",
      "[(0, 'id', 'BIGINT', 0, None, 0), (1, 'age', 'TEXT', 0, None, 0), (2, 'salary', 'FLOAT', 0, None, 0), (3, 'gender', 'TEXT', 0, None, 0), (4, 'state', 'TEXT', 0, None, 0)]\n",
      "Columns:  id\n",
      "Columns:  age\n",
      "Columns:  salary\n",
      "Columns:  gender\n",
      "Columns:  state\n"
     ]
    }
   ],
   "source": [
    "# running a query to check the table columns\n",
    "records = engine.execute(\"PRAGMA table_info(salarys)\").fetchall()  # fetches the 6 rows of data\n",
    "print(records)\n",
    "for row in records:\n",
    "    print(\"Columns: \", row[1])"
   ]
  },
  {
   "cell_type": "code",
   "execution_count": 36,
   "id": "f47d93ad",
   "metadata": {},
   "outputs": [
    {
     "name": "stdout",
     "output_type": "stream",
     "text": [
      "2022-01-30 18:00:42,953 INFO sqlalchemy.engine.base.Engine SELECT count(id) FROM salarys\n",
      "2022-01-30 18:00:42,956 INFO sqlalchemy.engine.base.Engine ()\n"
     ]
    },
    {
     "data": {
      "text/plain": [
       "[(52790,)]"
      ]
     },
     "execution_count": 36,
     "metadata": {},
     "output_type": "execute_result"
    }
   ],
   "source": [
    "# running a query to check the total table entries\n",
    "engine.execute(\"SELECT count(id) FROM salarys\").fetchall()"
   ]
  },
  {
   "cell_type": "code",
   "execution_count": 41,
   "id": "bb7aa0cf",
   "metadata": {},
   "outputs": [
    {
     "data": {
      "text/plain": [
       "'../database.db'"
      ]
     },
     "execution_count": 41,
     "metadata": {},
     "output_type": "execute_result"
    }
   ],
   "source": [
    "shutil.move(\"database.db\", \"../database.db\")"
   ]
  }
 ],
 "metadata": {
  "kernelspec": {
   "display_name": "Python 3",
   "language": "python",
   "name": "python3"
  },
  "language_info": {
   "codemirror_mode": {
    "name": "ipython",
    "version": 3
   },
   "file_extension": ".py",
   "mimetype": "text/x-python",
   "name": "python",
   "nbconvert_exporter": "python",
   "pygments_lexer": "ipython3",
   "version": "3.7.3"
  }
 },
 "nbformat": 4,
 "nbformat_minor": 5
}
