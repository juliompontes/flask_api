{
 "cells": [
  {
   "cell_type": "code",
   "execution_count": null,
   "id": "07732db2",
   "metadata": {},
   "outputs": [],
   "source": [
    "# dask package installation and import of the libraries that will be used in the project\n",
    "!python -m pip install \"dask[dataframe]\"\n",
    "\n",
    "import pandas as pd\n",
    "import numpy as np\n",
    "import dask.dataframe as dd\n",
    "import shutil"
   ]
  },
  {
   "cell_type": "code",
   "execution_count": 2,
   "id": "0f9b19df",
   "metadata": {},
   "outputs": [],
   "source": [
    "# selection of columns to be used\n",
    "cols = ['CBO Ocupação 2002',    # profession code\n",
    "        'Faixa Etária',         # age group        \n",
    "        'Município',            # city\n",
    "        'Vl Remun Média Nom',   # salary\n",
    "        'Sexo Trabalhador']     # gender"
   ]
  },
  {
   "cell_type": "code",
   "execution_count": 3,
   "id": "2efc2627",
   "metadata": {},
   "outputs": [],
   "source": [
    "# reading the files in a dask dataframe\n",
    "df = dd.read_csv('rais_raw_data/RAIS_VINC*',sep = \";\", encoding= \"ISO-8859-1\", usecols = cols, low_memory=False, \n",
    "                 dtype={'CBO Ocupação 2002': 'object','Faixa Etária': 'object'})"
   ]
  },
  {
   "cell_type": "code",
   "execution_count": 4,
   "id": "651bc76d",
   "metadata": {},
   "outputs": [],
   "source": [
    "# removal of lines that are not of interest to the project and consequent reduction of the dataset\n",
    "df = df[df['CBO Ocupação 2002'].str.startswith('2')]"
   ]
  },
  {
   "cell_type": "code",
   "execution_count": null,
   "id": "cad41d61",
   "metadata": {},
   "outputs": [],
   "source": [
    "# transforming a dask dataframe to a pandas dataframe\n",
    "df = df.compute()"
   ]
  },
  {
   "cell_type": "code",
   "execution_count": null,
   "id": "80086cf8",
   "metadata": {},
   "outputs": [],
   "source": [
    "# checking the number of rows and columns of the dataframe\n",
    "df.shape"
   ]
  },
  {
   "cell_type": "code",
   "execution_count": null,
   "id": "af74d56b",
   "metadata": {},
   "outputs": [],
   "source": [
    "df.head()"
   ]
  },
  {
   "cell_type": "code",
   "execution_count": null,
   "id": "24853c70",
   "metadata": {},
   "outputs": [],
   "source": [
    "# loading project supplementary data into pandas dataframes\n",
    "cbo = pd.read_csv('supplementary_data/cbo.csv')\n",
    "state = pd.read_csv('supplementary_data/states.csv')"
   ]
  },
  {
   "cell_type": "code",
   "execution_count": null,
   "id": "50c234ae",
   "metadata": {},
   "outputs": [],
   "source": [
    "cbo.head()"
   ]
  },
  {
   "cell_type": "code",
   "execution_count": null,
   "id": "4da91858",
   "metadata": {
    "scrolled": true
   },
   "outputs": [],
   "source": [
    "state.head()"
   ]
  },
  {
   "cell_type": "code",
   "execution_count": null,
   "id": "3f52ac59",
   "metadata": {},
   "outputs": [],
   "source": [
    "# join of the original dataframe with the dataframe with the names of the professions\n",
    "data = pd.merge(df, cbo, on='CBO Ocupação 2002', how ='left')"
   ]
  },
  {
   "cell_type": "code",
   "execution_count": null,
   "id": "3c9f58d3",
   "metadata": {},
   "outputs": [],
   "source": [
    "data.head()"
   ]
  },
  {
   "cell_type": "code",
   "execution_count": null,
   "id": "0707b8ee",
   "metadata": {},
   "outputs": [],
   "source": [
    "# removal of lines without the name of a profession\n",
    "data = data[data['Profession'].notnull()]"
   ]
  },
  {
   "cell_type": "code",
   "execution_count": null,
   "id": "56b21195",
   "metadata": {},
   "outputs": [],
   "source": [
    "data.shape"
   ]
  },
  {
   "cell_type": "code",
   "execution_count": null,
   "id": "a8c9d781",
   "metadata": {},
   "outputs": [],
   "source": [
    "# join of previous dataframe with dataframe with states\n",
    "data = pd.merge(data,state,on ='Município', how ='left')"
   ]
  },
  {
   "cell_type": "code",
   "execution_count": null,
   "id": "7ab1d440",
   "metadata": {},
   "outputs": [],
   "source": [
    "# removal of columns with the CBO code and the municipality\n",
    "data.drop(['CBO Ocupação 2002','Município', \"Profession\"], axis=1, inplace=True)"
   ]
  },
  {
   "cell_type": "code",
   "execution_count": null,
   "id": "18735f3c",
   "metadata": {
    "scrolled": false
   },
   "outputs": [],
   "source": [
    "data.head()"
   ]
  },
  {
   "cell_type": "code",
   "execution_count": null,
   "id": "c26f2c1b",
   "metadata": {},
   "outputs": [],
   "source": [
    "data['Vl Remun Média Nom']=data['Vl Remun Média Nom'].str.replace(',','.')"
   ]
  },
  {
   "cell_type": "code",
   "execution_count": null,
   "id": "3a7898dc",
   "metadata": {},
   "outputs": [],
   "source": [
    "# transformation of variables with salary values from \"object\" to \"float64\"\n",
    "data[\"Vl Remun Média Nom\"] = pd.to_numeric(data[\"Vl Remun Média Nom\"])"
   ]
  },
  {
   "cell_type": "code",
   "execution_count": null,
   "id": "fb37254a",
   "metadata": {},
   "outputs": [],
   "source": [
    "data.dtypes"
   ]
  },
  {
   "cell_type": "code",
   "execution_count": null,
   "id": "1e8ee43a",
   "metadata": {},
   "outputs": [],
   "source": [
    "# removing rows where salary equal 0\n",
    "data = data[data['Vl Remun Média Nom'] > 0]"
   ]
  },
  {
   "cell_type": "code",
   "execution_count": null,
   "id": "2e35a4b4",
   "metadata": {},
   "outputs": [],
   "source": [
    "data.shape"
   ]
  },
  {
   "cell_type": "code",
   "execution_count": null,
   "id": "089b1afb",
   "metadata": {},
   "outputs": [],
   "source": [
    "# exchange the encoding of the column \"Age Group\" by the actual value of the variable \"Age Group\"\n",
    "data['Faixa Etária'] = data['Faixa Etária'].map({'01': '10 to 14 years',\n",
    "                                               '02': '15 to 17 years',\n",
    "                                               '03': '18 to 24 years',\n",
    "                                               '04': '25 to 29 years',\n",
    "                                               '05': '30 to 39 years',\n",
    "                                               '06': '40 to 49 years',\n",
    "                                               '07': '50 to 64 years',\n",
    "                                               '08': '65+ years'\n",
    "                                              }\n",
    "                                             )"
   ]
  },
  {
   "cell_type": "code",
   "execution_count": null,
   "id": "1cc19198",
   "metadata": {},
   "outputs": [],
   "source": [
    "# exchange the encoding of the \"Worker Sex\" column for the actual value of the \"Worker Sex\" variable\n",
    "data['Sexo Trabalhador'] = data['Sexo Trabalhador'].map({1: 'Male',\n",
    "                                                         2: 'Female',\n",
    "                                                        -1: 'uninformed'\n",
    "                                                        }\n",
    "                                                       )"
   ]
  },
  {
   "cell_type": "code",
   "execution_count": null,
   "id": "69f5e355",
   "metadata": {},
   "outputs": [],
   "source": [
    "# renaming columnS names\n",
    "data.rename(columns={'Faixa Etária': \"age\",\n",
    "                     'Vl Remun Média Nom' : 'salary',\n",
    "                     'Sexo Trabalhador': 'gender',\n",
    "                     'State': 'state'\n",
    "                     }, \n",
    "            inplace=True)"
   ]
  },
  {
   "cell_type": "code",
   "execution_count": null,
   "id": "cc6a47a5",
   "metadata": {},
   "outputs": [],
   "source": [
    "# removal of lines with probably incorrect padding\n",
    "data.drop(data.loc[data['age']=='15 to 17 years'].index, inplace=True)\n",
    "data.drop(data.loc[data['age']=='10 to 14 years'].index, inplace=True)"
   ]
  },
  {
   "cell_type": "code",
   "execution_count": null,
   "id": "3dd5902f",
   "metadata": {},
   "outputs": [],
   "source": [
    "# resetting the index\n",
    "data.reset_index(drop=True, inplace=True)"
   ]
  },
  {
   "cell_type": "code",
   "execution_count": null,
   "id": "ceaf168e",
   "metadata": {
    "scrolled": false
   },
   "outputs": [],
   "source": [
    "data.head()"
   ]
  },
  {
   "cell_type": "code",
   "execution_count": null,
   "id": "97afbf45",
   "metadata": {},
   "outputs": [],
   "source": [
    "from sqlalchemy import create_engine"
   ]
  },
  {
   "cell_type": "code",
   "execution_count": null,
   "id": "9ba67c03",
   "metadata": {},
   "outputs": [],
   "source": [
    "# creating the connection with sqlite to create the database\n",
    "engine = create_engine('sqlite:///database.db', echo=True)\n",
    "sqlite_connection = engine.connect()"
   ]
  },
  {
   "cell_type": "code",
   "execution_count": null,
   "id": "33e6ab60",
   "metadata": {},
   "outputs": [],
   "source": [
    "# creating the variable that contains the database table name (salarys)\n",
    "sqlite_table = \"salarys\""
   ]
  },
  {
   "cell_type": "code",
   "execution_count": null,
   "id": "38029995",
   "metadata": {},
   "outputs": [],
   "source": [
    "# inserting data from dataframe to database\n",
    "data.to_sql(sqlite_table, sqlite_connection, if_exists='fail', index=True, index_label=\"id\")"
   ]
  },
  {
   "cell_type": "code",
   "execution_count": null,
   "id": "a9b37d66",
   "metadata": {},
   "outputs": [],
   "source": [
    "# running a query to check the first 5 elements of the table \"salarys\" from the database\n",
    "engine.execute(\"SELECT * FROM salarys limit 5\").fetchall()"
   ]
  },
  {
   "cell_type": "code",
   "execution_count": null,
   "id": "486cfe7f",
   "metadata": {},
   "outputs": [],
   "source": [
    "# running a query to check the table columns\n",
    "records = engine.execute(\"PRAGMA table_info(salarys)\").fetchall()  # fetches the 6 rows of data\n",
    "print(records)\n",
    "for row in records:\n",
    "    print(\"Columns: \", row[1])"
   ]
  },
  {
   "cell_type": "code",
   "execution_count": null,
   "id": "f47d93ad",
   "metadata": {},
   "outputs": [],
   "source": [
    "# running a query to check the total table entries\n",
    "engine.execute(\"SELECT count(id) FROM salarys\").fetchall()"
   ]
  }
 ],
 "metadata": {
  "kernelspec": {
   "display_name": "Python 3",
   "language": "python",
   "name": "python3"
  },
  "language_info": {
   "codemirror_mode": {
    "name": "ipython",
    "version": 3
   },
   "file_extension": ".py",
   "mimetype": "text/x-python",
   "name": "python",
   "nbconvert_exporter": "python",
   "pygments_lexer": "ipython3",
   "version": "3.7.3"
  }
 },
 "nbformat": 4,
 "nbformat_minor": 5
}
